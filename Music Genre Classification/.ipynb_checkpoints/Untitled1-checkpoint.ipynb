{
 "cells": [
  {
   "cell_type": "code",
   "execution_count": 2,
   "metadata": {},
   "outputs": [],
   "source": [
    "import librosa\n",
    "import pandas as pd\n",
    "import numpy as np\n",
    "import matplotlib.pyplot as plt\n",
    "%matplotlib inline\n",
    "import os\n",
    "from PIL import Image\n",
    "import pathlib\n",
    "import csv\n",
    "\n",
    "# Preprocessing\n",
    "from sklearn.model_selection import train_test_split\n",
    "from sklearn.preprocessing import LabelEncoder, StandardScaler\n",
    "\n",
    "#Keras\n",
    "import keras\n",
    "\n",
    "import warnings\n",
    "warnings.filterwarnings('ignore')"
   ]
  },
  {
   "cell_type": "code",
   "execution_count": 14,
   "metadata": {},
   "outputs": [
    {
     "name": "stdout",
     "output_type": "stream",
     "text": [
      "1.0 % 2.0 % 3.0 % 4.0 % 5.0 % 6.0 % 8.0 % 9.0 % 10.0 % 11.0 % 12.0 % 13.0 % 15.0 % 16.0 % 17.0 % 18.0 % 19.0 % 20.0 % 21.0 % 22.0 % 23.0 % 24.0 % 25.0 % 26.0 % 27.0 % 30.0 % 31.0 % 32.0 % 33.0 % 34.0 % 35.0 % 36.0 % 37.0 % 38.0 % 39.0 % 40.0 % 41.0 % 42.0 % 43.0 % 44.0 % 45.0 % 46.0 % 47.0 % 48.0 % 49.0 % 50.0 % 51.0 % 52.0 % 53.0 % 54.0 % 59.0 % 60.0 % 61.0 % 62.0 % 63.0 % 64.0 % 65.0 % 66.0 % 67.0 % 68.0 % 69.0 % 70.0 % 71.0 % 72.0 % 73.0 % 74.0 % 75.0 % 76.0 % 77.0 % 78.0 % 79.0 % 80.0 % 81.0 % 82.0 % 83.0 % 84.0 % 85.0 % 86.0 % 87.0 % 88.0 % 89.0 % 90.0 % 91.0 % 92.0 % 93.0 % 94.0 % 95.0 % 96.0 % 97.0 % 98.0 % 99.0 % 100.0 % "
     ]
    },
    {
     "data": {
      "text/plain": [
       "<Figure size 720x720 with 0 Axes>"
      ]
     },
     "metadata": {},
     "output_type": "display_data"
    }
   ],
   "source": [
    "cmap = plt.get_cmap('inferno')\n",
    "\n",
    "plt.figure(figsize=(10,10))\n",
    "genres = 'blues classical country disco hiphop jazz metal pop reggae rock'.split()\n",
    "totalsg=1000\n",
    "current=0\n",
    "for g in genres:\n",
    "    pathlib.Path(f'img_data/{g}').mkdir(parents=True, exist_ok=True)     \n",
    "    for filename in os.listdir(f'C:/Users/Mrunal Sonawane/Documents/Machine Learning/Datasets/GTZan/genres/{g}'):\n",
    "        songname = f'C:/Users/Mrunal Sonawane/Documents/Machine Learning/Datasets/GTZan/genres/{g}/{filename}'\n",
    "        y, sr = librosa.load(songname, mono=True, duration=5)\n",
    "        plt.specgram(y, NFFT=2048, Fs=2, Fc=0, noverlap=128, cmap=cmap, sides='default', mode='default', scale='dB');\n",
    "        plt.axis('off');\n",
    "        plt.savefig(f'img_data/{g}/{filename[:-3].replace(\".\", \"\")}.png')\n",
    "        current+=1\n",
    "        if(((current/totalsg)*100)%1==0):\n",
    "                    print((current/totalsg)*100,'% ',end='')\n",
    "        plt.clf()"
   ]
  },
  {
   "cell_type": "markdown",
   "metadata": {},
   "source": [
    "<h2>Extracting features from Spectrogram</h2>\n",
    "<p>\n",
    "We will extract:\n",
    "   <i><br>\n",
    "   Mel-frequency cepstral coefficients (MFCC)(20 in number)\n",
    "   <br>Spectral Centroid,\n",
    "   <br>Zero Crossing Rate\n",
    "   <br>Chroma Frequencies\n",
    "   <br>Spectral Roll-off.\n",
    "   </i></p>"
   ]
  },
  {
   "cell_type": "code",
   "execution_count": 20,
   "metadata": {},
   "outputs": [],
   "source": [
    "header = 'filename chroma_stft rmse spectral_centroid spectral_bandwidth rolloff zero_crossing_rate'\n",
    "for i in range(1, 21):\n",
    "    header += f' mfcc{i}'\n",
    "header += ' label'\n",
    "header = header.split()"
   ]
  },
  {
   "cell_type": "code",
   "execution_count": null,
   "metadata": {},
   "outputs": [
    {
     "name": "stdout",
     "output_type": "stream",
     "text": [
      ".................................................................................................................................................................................................................................................................................................................."
     ]
    }
   ],
   "source": [
    "file = open('data.csv', 'w', newline='')\n",
    "with file:\n",
    "    writer = csv.writer(file)\n",
    "    writer.writerow(header)\n",
    "genres = 'blues classical country disco hiphop jazz metal pop reggae rock'.split()\n",
    "for g in genres:\n",
    "    for filename in os.listdir(f'C:/Users/Mrunal Sonawane/Documents/Machine Learning/Datasets/GTZan/genres/{g}'):\n",
    "        songname = f'C:/Users/Mrunal Sonawane/Documents/Machine Learning/Datasets/GTZan/genres/{g}/{filename}'\n",
    "        y, sr = librosa.load(songname, mono=True, duration=30)\n",
    "        chroma_stft = librosa.feature.chroma_stft(y=y, sr=sr)\n",
    "        spec_cent = librosa.feature.spectral_centroid(y=y, sr=sr)\n",
    "        spec_bw = librosa.feature.spectral_bandwidth(y=y, sr=sr)\n",
    "        rolloff = librosa.feature.spectral_rolloff(y=y, sr=sr)\n",
    "        zcr = librosa.feature.zero_crossing_rate(y)\n",
    "        mfcc = librosa.feature.mfcc(y=y, sr=sr)\n",
    "        to_append = r'{filename} {np.mean(chroma_stft)} {np.mean(rmse)} {np.mean(spec_cent)} {np.mean(spec_bw)} {np.mean(rolloff)} {np.mean(zcr)}'\n",
    "        for e in mfcc:\n",
    "            to_append += f' {np.mean(e)}'\n",
    "        to_append += f' {g}'\n",
    "        file = open('data.csv', 'a', newline='')\n",
    "        with file:\n",
    "            writer = csv.writer(file)\n",
    "            writer.writerow(to_append.split())\n",
    "            print(\".\",end='')"
   ]
  },
  {
   "cell_type": "code",
   "execution_count": null,
   "metadata": {},
   "outputs": [],
   "source": []
  }
 ],
 "metadata": {
  "kernelspec": {
   "display_name": "Python 3M",
   "language": "python",
   "name": "python3"
  },
  "language_info": {
   "codemirror_mode": {
    "name": "ipython",
    "version": 3
   },
   "file_extension": ".py",
   "mimetype": "text/x-python",
   "name": "python",
   "nbconvert_exporter": "python",
   "pygments_lexer": "ipython3",
   "version": "3.6.8"
  }
 },
 "nbformat": 4,
 "nbformat_minor": 2
}
